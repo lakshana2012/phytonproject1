{
  "nbformat": 4,
  "nbformat_minor": 0,
  "metadata": {
    "colab": {
      "provenance": []
    },
    "kernelspec": {
      "name": "python3",
      "display_name": "Python 3"
    },
    "language_info": {
      "name": "python"
    }
  },
  "cells": [
    {
      "cell_type": "code",
      "execution_count": 2,
      "metadata": {
        "colab": {
          "base_uri": "https://localhost:8080/"
        },
        "id": "sGVIp2brf03s",
        "outputId": "a8dca019-445b-4d07-a3ae-779c05078bf1"
      },
      "outputs": [
        {
          "output_type": "stream",
          "name": "stdout",
          "text": [
            "enter the passwordADIk7\n",
            "incorrect password entered try again\n",
            "enter the passwordhji\n",
            "incorrect password entered try again\n",
            "enter the passwordicecream\n",
            "acess granted\n"
          ]
        }
      ],
      "source": [
        "#PASSWORD GUESSING\n",
        "password= \"icecream\"\n",
        "userpassword= input(\"enter the password\")\n",
        "\n",
        "while password != userpassword:\n",
        "  print(\"incorrect password entered try again\")\n",
        "  userpassword= input(\"enter the password\")\n",
        "print(\"acess granted\")"
      ]
    }
  ]
}