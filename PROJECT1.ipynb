{
  "nbformat": 4,
  "nbformat_minor": 0,
  "metadata": {
    "colab": {
      "provenance": []
    },
    "kernelspec": {
      "name": "python3",
      "display_name": "Python 3"
    },
    "language_info": {
      "name": "python"
    }
  },
  "cells": [
    {
      "cell_type": "code",
      "source": [
        "# traffic signal project\n",
        "# get the input of traffic signal from the user and direct the output either to go, get ready or wait.\n",
        "signal= (input(\"choose a traffic signal(red, yellow, green)\"))\n",
        "if signal== \"red\":\n",
        "  print(\"STOP\")\n",
        "elif signal== \"green\":\n",
        "  print(\"GO\")\n",
        "elif signal== \"yellow\":\n",
        " print(\" GET READY\")\n",
        "else:\n",
        "  print(\"choose the traffic signal from the above options\")"
      ],
      "metadata": {
        "id": "JAY9iGn4FuKK",
        "colab": {
          "base_uri": "https://localhost:8080/"
        },
        "outputId": "40843fdf-82da-4583-847b-54f303e75511"
      },
      "execution_count": 7,
      "outputs": [
        {
          "output_type": "stream",
          "name": "stdout",
          "text": [
            "choose a traffic signal(red, yellow, green) ivan\n",
            "choose the traffic signal from the above options\n"
          ]
        }
      ]
    }
  ]
}