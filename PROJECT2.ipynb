{
  "nbformat": 4,
  "nbformat_minor": 0,
  "metadata": {
    "colab": {
      "provenance": []
    },
    "kernelspec": {
      "name": "python3",
      "display_name": "Python 3"
    },
    "language_info": {
      "name": "python"
    }
  },
  "cells": [
    {
      "cell_type": "code",
      "execution_count": null,
      "metadata": {
        "id": "x4SpKYFwArJq",
        "colab": {
          "base_uri": "https://localhost:8080/"
        },
        "outputId": "c0d24c11-13d7-4daf-ca67-540c35f9af37"
      },
      "outputs": [
        {
          "output_type": "stream",
          "name": "stdout",
          "text": [
            "enter your name Lakshana\n",
            "enter your grade7\n",
            "enter how many main subjects you have 6\n",
            " enter your Maths mark 99\n",
            " enter your Science mark 99\n",
            "enter your SocialScience mark99\n",
            "enter your english mark99\n",
            "enter your language 2 mark99\n",
            "enter your language 3 mark99\n",
            "your total is 594\n",
            "your average is 99.0\n",
            "you got a A grade,congratulations 🎉 \n"
          ]
        }
      ],
      "source": [
        "#Get the student name and marks, find the average and use conditional to give grades\n",
        "\n",
        "Name= (input(\"enter your name\"))\n",
        "Grade= int(input(\"enter your grade\"))\n",
        "numberofsubject= int(input(\"enter how many main subjects you have\"))\n",
        "\n",
        "Maths= int(input(\" enter your Maths mark\"))\n",
        "Science= int(input(\" enter your Science mark\"))\n",
        "Socialscience= int(input(\"enter your SocialScience mark\"))\n",
        "English= int(input(\"enter your english mark\"))\n",
        "Language2= int(input(\"enter your language 2 mark\"))\n",
        "Language3=  int(input(\"enter your language 3 mark\"))\n",
        "\n",
        "total= Maths+Science+Socialscience+English+Language2+Language3\n",
        "print(\"your total is\", total)\n",
        "\n",
        "average=total/numberofsubject\n",
        "print(\"your average is\", average)\n",
        "\n",
        "if average >=90 and average <100:\n",
        " print(\"you got a A grade,congratulations 🎉 \")\n",
        "\n",
        "elif average>=80 and average<90:\n",
        " print(\"you got a B grade,congratulations 🎉 \")\n",
        "\n",
        "elif average>=70 and average<80:\n",
        " print(\"you got a C grade,congratulations 🎉\")\n",
        "\n",
        "elif average>=60 and average<70:\n",
        " print(\"you got a d grade,congratulations 🎉\")\n",
        "\n",
        "elif average>=50 and average<60:\n",
        " print(\"you got a E grade,congratulations 🎉\")\n",
        "\n",
        "else:\n",
        "  print(\"there is still room for improvement\")"
      ]
    }
  ]
}